{
 "cells": [
  {
   "cell_type": "code",
   "execution_count": null,
   "id": "d7488a98-8902-4125-a192-f2b9ab962bb0",
   "metadata": {},
   "outputs": [],
   "source": [
    "print('Test')"
   ]
  }
 ],
 "metadata": {
  "kernelspec": {
   "display_name": "Python 3 (ipykernel)",
   "language": "python",
   "name": "python3"
  },
  "language_info": {
   "codemirror_mode": {
    "name": "ipython",
    "version": 3
   },
   "file_extension": ".py",
   "mimetype": "text/x-python",
   "name": "python",
   "nbconvert_exporter": "python",
   "pygments_lexer": "ipython3",
   "version": "3.11.5"
  }
 },
 "nbformat": 4,
 "nbformat_minor": 5
}


import RPi.GPIO as GPIO
import time

# Set pin numbering mode
GPIO.setmode(GPIO.BCM)

# Set Haptic Motor (HM) pin as output
HM_PIN1 = 17
GPIO.setup(HM_PIN1, GPIO.OUT)
HM_PIN2 = 27
GPIO.setup(HM_PIN2, GPIO.OUT)
HM_PIN3 = 22
GPIO.setup(HM_PIN3, GPIO.OUT)
HM_PIN4 = 23
GPIO.setup(HM_PIN4, GPIO.OUT)
HM_PIN5 = 24
GPIO.setup(HM_PIN5, GPIO.OUT)

try:
    while True:
        GPIO.output(HM_PIN1, GPIO.HIGH)  # Turn LED ON
        time.sleep(1)
        GPIO.output(HM_PIN1, GPIO.LOW)   # Turn LED OFF
        time.sleep(1)
        GPIO.output(HM_PIN2, GPIO.HIGH)  # Turn LED ON
        time.sleep(1)
        GPIO.output(HM_PIN2, GPIO.LOW)   # Turn LED OFF
        time.sleep(1)
        GPIO.output(HM_PIN3, GPIO.HIGH)  # Turn LED ON
        time.sleep(1)
        GPIO.output(HM_PIN3, GPIO.LOW)   # Turn LED OFF
        time.sleep(1)
        GPIO.output(HM_PIN4, GPIO.HIGH)  # Turn LED ON
        time.sleep(1)
        GPIO.output(HM_PIN4, GPIO.LOW)   # Turn LED OFF
        time.sleep(1)
except KeyboardInterrupt:
    GPIO.cleanup()  # Clean up GPIO pins on exit
